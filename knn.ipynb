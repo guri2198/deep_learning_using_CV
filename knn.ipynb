{
 "cells": [
  {
   "cell_type": "code",
   "execution_count": 4,
   "id": "381836d3",
   "metadata": {},
   "outputs": [
    {
     "name": "stderr",
     "output_type": "stream",
     "text": [
      "usage: ipykernel_launcher.py [-h] -d DATASETS [-k NEIGHBORS] [-j JOBS]\n",
      "ipykernel_launcher.py: error: the following arguments are required: -d/--datasets\n"
     ]
    },
    {
     "ename": "SystemExit",
     "evalue": "2",
     "output_type": "error",
     "traceback": [
      "An exception has occurred, use %tb to see the full traceback.\n",
      "\u001b[0;31mSystemExit\u001b[0m\u001b[0;31m:\u001b[0m 2\n"
     ]
    },
    {
     "name": "stderr",
     "output_type": "stream",
     "text": [
      "/home/ccg2/miniconda3/envs/new_env/lib/python3.10/site-packages/IPython/core/interactiveshell.py:3516: UserWarning: To exit: use 'exit', 'quit', or Ctrl-D.\n",
      "  warn(\"To exit: use 'exit', 'quit', or Ctrl-D.\", stacklevel=1)\n"
     ]
    }
   ],
   "source": [
    "from sklearn.metrics import classification_report\n",
    "from sklearn.neighbors import KNeighborsClassifier\n",
    "from sklearn.preprocessing import LabelEncoder\n",
    "from sklearn.model_selection import train_test_split\n",
    "from pyimagesearch.preprocessing import SimplePreprocessor\n",
    "from pyimagesearch.datasets import SimpleDatasetLoader\n",
    "from imutils import paths\n",
    "import argparse\n",
    "import cv2\n",
    "\n",
    "\n",
    "\n",
    "ap = argparse.ArgumentParser()\n",
    "ap.add_argument(\"-d\",\"--datasets\",required=True, help=\"path to input dataset\")\n",
    "ap.add_argument(\"-k\",\"--neighbors\",type=int, default=1,help=\"# of nearest neighbors for classification\")\n",
    "ap.add_argument(\"-j\",\"--jobs\",type=int,default=-1,help=\"# of jobs for K-NN distance(-1 uses all availabe cores )\")\n",
    "args = vars(ap.parse_args())\n",
    "\n",
    "print(\"[info] loading the images \")\n",
    "imagepaths = list(paths.list_images(args[\"datasets\"]))\n",
    "sp = SimplePreprocessor(32,32)\n",
    "sdl = SimpleDatasetLoader(preprocessors=[sp]) \n",
    "(data,labels) = sdl.load(imagepaths,verbose =500)\n",
    "data = data.reshape((data.shape[0],3072))\n",
    "print(\"[info] features matrix : {:.1f}MB\".format(data.nbytes/1024*1000.0))\n",
    "le = LabelEncoder()\n",
    "labels = le.fit_transform(labels)\n",
    "\n",
    "(trainX , testX , trainY , testY) = train_test_split(data , labels , test_size=0.25 , random_state=42)\n",
    "print(\"[info] evaluating KNN classifier\")\n",
    "model = KNeighborsClassifier(n_neighbors=args[\"neighbors\"],n_jobs=args[\"jobs\"])\n",
    "model.fit(trainX,trainY)\n",
    "print(classification_report(testY,model.predict(testX),target_names=le.classes_))"
   ]
  },
  {
   "cell_type": "code",
   "execution_count": null,
   "id": "296fb12e",
   "metadata": {},
   "outputs": [],
   "source": []
  }
 ],
 "metadata": {
  "kernelspec": {
   "display_name": "Python 3 (ipykernel)",
   "language": "python",
   "name": "python3"
  },
  "language_info": {
   "codemirror_mode": {
    "name": "ipython",
    "version": 3
   },
   "file_extension": ".py",
   "mimetype": "text/x-python",
   "name": "python",
   "nbconvert_exporter": "python",
   "pygments_lexer": "ipython3",
   "version": "3.10.11"
  }
 },
 "nbformat": 4,
 "nbformat_minor": 5
}
